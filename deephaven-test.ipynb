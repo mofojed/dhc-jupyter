{
 "cells": [
  {
   "cell_type": "code",
   "execution_count": 2,
   "id": "ec21a82b-e91a-448a-a865-398f5c253e70",
   "metadata": {},
   "outputs": [
    {
     "name": "stderr",
     "output_type": "stream",
     "text": [
      "# io.deephaven.internal.log.LoggerFactoryServiceLoaderImpl: searching for 'io.deephaven.internal.log.LoggerFactory'...\n",
      "# io.deephaven.internal.log.LoggerFactoryServiceLoaderImpl: found 'io.deephaven.internal.log.LoggerFactorySlf4j'\n"
     ]
    },
    {
     "name": "stdout",
     "output_type": "stream",
     "text": [
      "# Starting io.deephaven.python.server.EmbeddedServer\n",
      "# Bootstrapping from resource '/bootstrap.properties'%n\n",
      "Server started on port 8080\n",
      "Deephaven Widget initialized\n",
      "Deephaven Widget initialized\n"
     ]
    }
   ],
   "source": [
    "# Start up the Deephaven Server\n",
    "from deephaven_server import Server\n",
    "port=8080\n",
    "s = Server(port=port)\n",
    "s.start()"
   ]
  },
  {
   "cell_type": "code",
   "execution_count": 5,
   "id": "37be44e2",
   "metadata": {},
   "outputs": [
    {
     "data": {
      "text/plain": [
       "'Deephaven Widget initialized'"
      ]
     },
     "metadata": {},
     "output_type": "display_data"
    }
   ],
   "source": [
    "# Initialize the Deephaven Widget\n",
    "from dhc_jupyter import DeephavenWidget\n",
    "DeephavenWidget.default_width = 900\n",
    "DeephavenWidget.default_height = 600\n",
    "DeephavenWidget.default_server_url = f\"http://localhost:{port}\"\n",
    "DeephavenWidget.globals = globals()\n",
    "display(\"Deephaven Widget initialized\")"
   ]
  },
  {
   "cell_type": "code",
   "execution_count": 5,
   "id": "28b44229-21b3-451b-937b-533b049de1c8",
   "metadata": {},
   "outputs": [
    {
     "data": {
      "application/vnd.jupyter.widget-view+json": {
       "model_id": "bb879a253aee4a1eadfb268e0f28bbbb",
       "version_major": 2,
       "version_minor": 0
      },
      "text/plain": [
       "DeephavenWidget(height=600, server_url='http://localhost:8080', table_id='t_e4061837_30f4_4a3f_97a0_84de320a3b…"
      ]
     },
     "metadata": {},
     "output_type": "display_data"
    }
   ],
   "source": [
    "# Create a table and display it\n",
    "from deephaven import empty_table\n",
    "t = empty_table(1000).update(\"x=i\")\n",
    "display(DeephavenWidget(t))"
   ]
  },
  {
   "cell_type": "code",
   "execution_count": 11,
   "id": "b5234d93",
   "metadata": {},
   "outputs": [
    {
     "data": {
      "application/vnd.jupyter.widget-view+json": {
       "model_id": "b454ff07f5ba449a8879aeebf18474f0",
       "version_major": 2,
       "version_minor": 0
      },
      "text/plain": [
       "DeephavenWidget(height=250, server_url='http://localhost:8080', table_id='t_53195b75_d3ac_48e4_834b_85ccb154f3…"
      ]
     },
     "metadata": {},
     "output_type": "display_data"
    }
   ],
   "source": [
    "# Specify a size for the table\n",
    "display(DeephavenWidget(t, width=100, height=250))"
   ]
  },
  {
   "cell_type": "code",
   "execution_count": null,
   "id": "a73d9621-defb-45eb-9959-bfdd4c3c0f3e",
   "metadata": {},
   "outputs": [],
   "source": [
    "from dhc_jupyter import DeephavenWidget\n",
    "DeephavenWidget(empty_table(1000).update(\"y=i\"), globals())"
   ]
  },
  {
   "cell_type": "code",
   "execution_count": null,
   "id": "690cab75",
   "metadata": {},
   "outputs": [],
   "source": [
    "# Without using widgets, just specify the whole IFrame and address for the table to be shown\n",
    "import ipywidgets as widgets\n",
    "from IPython.display import display, IFrame\n",
    "IFrame(src='http://localhost:8080/iframe/table/?name=t',width=900, height=600)"
   ]
  },
  {
   "cell_type": "code",
   "execution_count": null,
   "id": "0834d7cb",
   "metadata": {},
   "outputs": [],
   "source": []
  }
 ],
 "metadata": {
  "kernelspec": {
   "display_name": "Python 3 (ipykernel)",
   "language": "python",
   "name": "python3"
  },
  "language_info": {
   "codemirror_mode": {
    "name": "ipython",
    "version": 3
   },
   "file_extension": ".py",
   "mimetype": "text/x-python",
   "name": "python",
   "nbconvert_exporter": "python",
   "pygments_lexer": "ipython3",
   "version": "3.8.9"
  },
  "vscode": {
   "interpreter": {
    "hash": "3fb3d169c97c05dce9d5e5e07fba5f8e81b84aa43749864b30ae9fc530edac5a"
   }
  }
 },
 "nbformat": 4,
 "nbformat_minor": 5
}

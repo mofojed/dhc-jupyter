{
 "cells": [
  {
   "cell_type": "code",
   "execution_count": 1,
   "id": "ec21a82b-e91a-448a-a865-398f5c253e70",
   "metadata": {},
   "outputs": [
    {
     "name": "stdout",
     "output_type": "stream",
     "text": [
      "# Starting io.deephaven.python.server.EmbeddedServer\n",
      "# Bootstrapping from resource '/bootstrap.properties'%n\n"
     ]
    },
    {
     "name": "stderr",
     "output_type": "stream",
     "text": [
      "# io.deephaven.internal.log.LoggerFactoryServiceLoaderImpl: searching for 'io.deephaven.internal.log.LoggerFactory'...\n",
      "# io.deephaven.internal.log.LoggerFactoryServiceLoaderImpl: found 'io.deephaven.internal.log.LoggerFactorySlf4j'\n"
     ]
    },
    {
     "name": "stdout",
     "output_type": "stream",
     "text": [
      "Server started on port 8080\n"
     ]
    }
   ],
   "source": [
    "from deephaven_server import Server\n",
    "s = Server(port=8080)\n",
    "s.start()"
   ]
  },
  {
   "cell_type": "code",
   "execution_count": 2,
   "id": "28b44229-21b3-451b-937b-533b049de1c8",
   "metadata": {},
   "outputs": [],
   "source": [
    "from deephaven import empty_table\n",
    "t = empty_table(1000).update(\"x=i\")"
   ]
  },
  {
   "cell_type": "code",
   "execution_count": 3,
   "id": "ae7734da-756f-4de3-90c1-f116f577458e",
   "metadata": {},
   "outputs": [
    {
     "data": {
      "text/plain": [
       "deephaven.table.Table(io.deephaven.engine.table.Table(objectRef=0x1045264e0, num_rows = 1000, columns = {'y': int}))"
      ]
     },
     "metadata": {},
     "output_type": "display_data"
    }
   ],
   "source": [
    "from deephaven import empty_table\n",
    "display(empty_table(1000).update(\"y=i\"))"
   ]
  },
  {
   "cell_type": "code",
   "execution_count": 4,
   "id": "b5234d93",
   "metadata": {},
   "outputs": [
    {
     "data": {
      "application/vnd.jupyter.widget-view+json": {
       "model_id": "b64cbd664e4c4b26aba1685d3b4b8cd6",
       "version_major": 2,
       "version_minor": 0
      },
      "text/plain": [
       "DeephavenWidget(server_url='http://localhost:8080', table_id='t_a35b09e3_6827_4739_ad23_5f37d41abeb5', widget_…"
      ]
     },
     "metadata": {},
     "output_type": "display_data"
    }
   ],
   "source": [
    "from dhc_jupyter import DeephavenWidget\n",
    "my_widget = DeephavenWidget(t)\n",
    "# display(print(Server.instance.j_server))\n",
    "display(my_widget)"
   ]
  },
  {
   "cell_type": "code",
   "execution_count": 5,
   "id": "a73d9621-defb-45eb-9959-bfdd4c3c0f3e",
   "metadata": {},
   "outputs": [
    {
     "data": {
      "application/vnd.jupyter.widget-view+json": {
       "model_id": "22518b9b481447b183b20e1030fff657",
       "version_major": 2,
       "version_minor": 0
      },
      "text/plain": [
       "DeephavenWidget(server_url='http://localhost:8080', table_id='t_5c32a1f0_2061_436b_81f4_2b814a8e826a', widget_…"
      ]
     },
     "metadata": {},
     "output_type": "display_data"
    }
   ],
   "source": [
    "from dhc_jupyter import DeephavenWidget\n",
    "DeephavenWidget(empty_table(1000).update(\"y=i\"), globals())"
   ]
  },
  {
   "cell_type": "code",
   "execution_count": null,
   "id": "075b2a47",
   "metadata": {},
   "outputs": [],
   "source": [
    "from dhc_jupyter.example import _get_global_name\n",
    "\n",
    "def get_obj_name(obj):\n",
    "  for name, value in globals().items():\n",
    "    if obj == value:\n",
    "      return name\n",
    "\n",
    "display(_get_global_name(t))\n",
    "display(get_obj_name(t))"
   ]
  },
  {
   "cell_type": "code",
   "execution_count": null,
   "id": "3a030b81",
   "metadata": {},
   "outputs": [],
   "source": [
    "def get_obj_name(obj):\n",
    "  for name, value in globals().items():\n",
    "    if obj == value:\n",
    "      return name\n",
    "\n",
    "display(get_obj_name(t))"
   ]
  },
  {
   "cell_type": "code",
   "execution_count": null,
   "id": "7fb566fa",
   "metadata": {},
   "outputs": [],
   "source": [
    "import ipywidgets as widgets\n",
    "from IPython.display import display, IFrame\n",
    "\n",
    "out = widgets.Output()\n",
    "\n",
    "@out.capture()\n",
    "def render():\n",
    "    display(IFrame(src='http://localhost:8980/iframe/table/?name=t',width=900, height=600))"
   ]
  },
  {
   "cell_type": "code",
   "execution_count": null,
   "id": "ab1a5f51",
   "metadata": {},
   "outputs": [],
   "source": [
    "from uuid import uuid4\n",
    "myid = uuid4()\n",
    "display(f\"my id {str(myid).replace('-', '_')}\")"
   ]
  },
  {
   "cell_type": "code",
   "execution_count": null,
   "id": "80bb2144-5123-43ac-b66e-a85b8a5e29b3",
   "metadata": {},
   "outputs": [],
   "source": [
    "display(Server.instance.j_server)"
   ]
  },
  {
   "cell_type": "code",
   "execution_count": null,
   "id": "b9b466cc-e90d-4d8c-ad90-0a6d28f325dc",
   "metadata": {},
   "outputs": [],
   "source": [
    "display(Server.instance.port)"
   ]
  },
  {
   "cell_type": "code",
   "execution_count": null,
   "id": "59ec5b18-0536-459a-a65f-7fa19c61558b",
   "metadata": {},
   "outputs": [],
   "source": [
    "from ipywidgets import Widget\n",
    "widgets = Widget.widgets\n",
    "bar = widgets['083496bf02a54355aab300f50ce40e0b']\n",
    "display(bar.model_id)"
   ]
  },
  {
   "cell_type": "code",
   "execution_count": null,
   "id": "1b1e79d4-755b-441f-bf48-09d13a7729f8",
   "metadata": {},
   "outputs": [],
   "source": [
    "display(widgets['b727c6ca4bc149a39dd56779b046685d'].table_id)"
   ]
  },
  {
   "cell_type": "code",
   "execution_count": null,
   "id": "4cae71e2-ca79-4a5b-a32c-ec38484a666d",
   "metadata": {},
   "outputs": [],
   "source": [
    "table_id = f\"t_{str(uuid4()).replace('-', '_')}\"\n",
    "display(table_id)"
   ]
  },
  {
   "cell_type": "code",
   "execution_count": null,
   "id": "d4e5683f-4a06-4186-91cb-40277dd1013d",
   "metadata": {},
   "outputs": [],
   "source": [
    "import builtins\n",
    "\n",
    "builtins.hellothere = 'general kenobi'\n"
   ]
  },
  {
   "cell_type": "code",
   "execution_count": null,
   "id": "af2d4ab4-61e9-4f33-b9be-5f2943b7c298",
   "metadata": {},
   "outputs": [],
   "source": [
    "display(hellothere)"
   ]
  },
  {
   "cell_type": "code",
   "execution_count": null,
   "id": "0c31e4fc-7566-4d8d-ab03-ea5fadbf7867",
   "metadata": {},
   "outputs": [],
   "source": [
    "exec(\"import builtins\\nbuiltins.whatever = 'bam'\")\n"
   ]
  },
  {
   "cell_type": "code",
   "execution_count": null,
   "id": "ed74f3ea-40f7-43ad-95db-54a4c675b7c2",
   "metadata": {},
   "outputs": [],
   "source": [
    "display(t_865bb913_2775_4d2c_8afd_176c81a9683b)"
   ]
  },
  {
   "cell_type": "code",
   "execution_count": null,
   "id": "15300e4d-7374-4a92-b835-7eadbd59203f",
   "metadata": {},
   "outputs": [],
   "source": [
    "display(globals())"
   ]
  },
  {
   "cell_type": "code",
   "execution_count": null,
   "id": "81fa3d88-be3d-430a-8d8b-1688ed87e5fd",
   "metadata": {},
   "outputs": [],
   "source": []
  },
  {
   "cell_type": "code",
   "execution_count": null,
   "id": "690cab75",
   "metadata": {},
   "outputs": [],
   "source": [
    "import ipywidgets as widgets\n",
    "from IPython.display import display, IFrame\n",
    "display(IFrame(src='http://localhost:8080/iframe/table/?name=t',width=900, height=600))"
   ]
  }
 ],
 "metadata": {
  "kernelspec": {
   "display_name": "Python 3 (ipykernel)",
   "language": "python",
   "name": "python3"
  },
  "language_info": {
   "codemirror_mode": {
    "name": "ipython",
    "version": 3
   },
   "file_extension": ".py",
   "mimetype": "text/x-python",
   "name": "python",
   "nbconvert_exporter": "python",
   "pygments_lexer": "ipython3",
   "version": "3.8.9"
  },
  "vscode": {
   "interpreter": {
    "hash": "3fb3d169c97c05dce9d5e5e07fba5f8e81b84aa43749864b30ae9fc530edac5a"
   }
  }
 },
 "nbformat": 4,
 "nbformat_minor": 5
}

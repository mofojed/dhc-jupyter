{
 "cells": [
  {
   "cell_type": "code",
   "execution_count": 1,
   "id": "ec21a82b-e91a-448a-a865-398f5c253e70",
   "metadata": {},
   "outputs": [
    {
     "name": "stdout",
     "output_type": "stream",
     "text": [
      "# Starting io.deephaven.python.server.EmbeddedServer\n",
      "# Bootstrapping from resource '/bootstrap.properties'%n\n"
     ]
    },
    {
     "name": "stderr",
     "output_type": "stream",
     "text": [
      "# io.deephaven.internal.log.LoggerFactoryServiceLoaderImpl: searching for 'io.deephaven.internal.log.LoggerFactory'...\n",
      "# io.deephaven.internal.log.LoggerFactoryServiceLoaderImpl: found 'io.deephaven.internal.log.LoggerFactorySlf4j'\n"
     ]
    },
    {
     "name": "stdout",
     "output_type": "stream",
     "text": [
      "Server started on port 8080\n"
     ]
    }
   ],
   "source": [
    "from deephaven_server import Server\n",
    "s = Server(port=8080)\n",
    "s.start()"
   ]
  },
  {
   "cell_type": "code",
   "execution_count": 2,
   "id": "28b44229-21b3-451b-937b-533b049de1c8",
   "metadata": {},
   "outputs": [],
   "source": [
    "from deephaven import empty_table\n",
    "t = empty_table(1000).update(\"x=i\")"
   ]
  },
  {
   "cell_type": "code",
   "execution_count": 3,
   "id": "ae7734da-756f-4de3-90c1-f116f577458e",
   "metadata": {},
   "outputs": [
    {
     "data": {
      "text/plain": [
       "deephaven.table.Table(io.deephaven.engine.table.Table(objectRef=0x146159ff8, num_rows = 1000, columns = {'y': int}))"
      ]
     },
     "metadata": {},
     "output_type": "display_data"
    }
   ],
   "source": [
    "from deephaven import empty_table\n",
    "display(empty_table(1000).update(\"y=i\"))"
   ]
  },
  {
   "cell_type": "code",
   "execution_count": 4,
   "id": "b5234d93",
   "metadata": {},
   "outputs": [
    {
     "data": {
      "application/vnd.jupyter.widget-view+json": {
       "model_id": "2170d0afebc143de923b0ab4690c7b3e",
       "version_major": 2,
       "version_minor": 0
      },
      "text/plain": [
       "ExampleWidget(server_url='http://localhost:8080', widget_id='2170d0afebc143de923b0ab4690c7b3e')"
      ]
     },
     "metadata": {},
     "output_type": "display_data"
    }
   ],
   "source": [
    "from dhc_jupyter import ExampleWidget\n",
    "my_widget = ExampleWidget(t)\n",
    "# display(print(Server.instance.j_server))\n",
    "display(my_widget)"
   ]
  },
  {
   "cell_type": "code",
   "execution_count": 4,
   "id": "690cab75",
   "metadata": {},
   "outputs": [
    {
     "data": {
      "text/html": [
       "\n",
       "        <iframe\n",
       "            width=\"900\"\n",
       "            height=\"600\"\n",
       "            src=\"http://localhost:8080/iframe/table/?name=t\"\n",
       "            frameborder=\"0\"\n",
       "            allowfullscreen\n",
       "            \n",
       "        ></iframe>\n",
       "        "
      ],
      "text/plain": [
       "<IPython.lib.display.IFrame at 0x13604bd90>"
      ]
     },
     "metadata": {},
     "output_type": "display_data"
    }
   ],
   "source": [
    "import ipywidgets as widgets\n",
    "from IPython.display import display, IFrame\n",
    "display(IFrame(src='http://localhost:8080/iframe/table/?name=t',width=900, height=600))"
   ]
  },
  {
   "cell_type": "code",
   "execution_count": null,
   "id": "075b2a47",
   "metadata": {},
   "outputs": [],
   "source": [
    "from dhc_jupyter.example import _get_global_name\n",
    "\n",
    "def get_obj_name(obj):\n",
    "  for name, value in globals().items():\n",
    "    if obj == value:\n",
    "      return name\n",
    "\n",
    "display(_get_global_name(t))\n",
    "display(get_obj_name(t))"
   ]
  },
  {
   "cell_type": "code",
   "execution_count": null,
   "id": "3a030b81",
   "metadata": {},
   "outputs": [],
   "source": [
    "def get_obj_name(obj):\n",
    "  for name, value in globals().items():\n",
    "    if obj == value:\n",
    "      return name\n",
    "\n",
    "display(get_obj_name(t))"
   ]
  },
  {
   "cell_type": "code",
   "execution_count": null,
   "id": "7fb566fa",
   "metadata": {},
   "outputs": [],
   "source": [
    "import ipywidgets as widgets\n",
    "from IPython.display import display, IFrame\n",
    "\n",
    "out = widgets.Output()\n",
    "\n",
    "@out.capture()\n",
    "def render():\n",
    "    display(IFrame(src='http://localhost:8980/iframe/table/?name=t',width=900, height=600))"
   ]
  },
  {
   "cell_type": "code",
   "execution_count": 6,
   "id": "ab1a5f51",
   "metadata": {},
   "outputs": [
    {
     "data": {
      "text/plain": [
       "'my id f1ce7448_3273_42bb_ab05_d27056b2487d'"
      ]
     },
     "metadata": {},
     "output_type": "display_data"
    }
   ],
   "source": [
    "from uuid import uuid4\n",
    "myid = uuid4()\n",
    "display(f\"my id {str(myid).replace('-', '_')}\")"
   ]
  },
  {
   "cell_type": "code",
   "execution_count": 26,
   "id": "80bb2144-5123-43ac-b66e-a85b8a5e29b3",
   "metadata": {},
   "outputs": [
    {
     "data": {
      "text/plain": [
       "io.deephaven.python.server.EmbeddedServer(objectRef=0x13d790ee8)"
      ]
     },
     "metadata": {},
     "output_type": "display_data"
    }
   ],
   "source": [
    "display(Server.instance.j_server)"
   ]
  },
  {
   "cell_type": "code",
   "execution_count": 5,
   "id": "b9b466cc-e90d-4d8c-ad90-0a6d28f325dc",
   "metadata": {},
   "outputs": [
    {
     "data": {
      "text/plain": [
       "8080"
      ]
     },
     "metadata": {},
     "output_type": "display_data"
    }
   ],
   "source": [
    "display(Server.instance.port)"
   ]
  },
  {
   "cell_type": "code",
   "execution_count": 9,
   "id": "59ec5b18-0536-459a-a65f-7fa19c61558b",
   "metadata": {},
   "outputs": [
    {
     "data": {
      "text/plain": [
       "'083496bf02a54355aab300f50ce40e0b'"
      ]
     },
     "metadata": {},
     "output_type": "display_data"
    }
   ],
   "source": [
    "from ipywidgets import Widget\n",
    "widgets = Widget.widgets\n",
    "bar = widgets['083496bf02a54355aab300f50ce40e0b']\n",
    "display(bar.model_id)"
   ]
  },
  {
   "cell_type": "code",
   "execution_count": 16,
   "id": "1b1e79d4-755b-441f-bf48-09d13a7729f8",
   "metadata": {},
   "outputs": [
    {
     "data": {
      "text/plain": [
       "'b727c6ca4bc149a39dd56779b046685d'"
      ]
     },
     "metadata": {},
     "output_type": "display_data"
    }
   ],
   "source": [
    "display(widgets['b727c6ca4bc149a39dd56779b046685d'].table_id)"
   ]
  },
  {
   "cell_type": "code",
   "execution_count": 20,
   "id": "4cae71e2-ca79-4a5b-a32c-ec38484a666d",
   "metadata": {},
   "outputs": [
    {
     "data": {
      "text/plain": [
       "'t_1ef14fb7_c51b_40e4_abe0_3dce35c3ead8'"
      ]
     },
     "metadata": {},
     "output_type": "display_data"
    }
   ],
   "source": [
    "table_id = f\"t_{str(uuid4()).replace('-', '_')}\"\n",
    "display(table_id)"
   ]
  },
  {
   "cell_type": "code",
   "execution_count": null,
   "id": "d4e5683f-4a06-4186-91cb-40277dd1013d",
   "metadata": {},
   "outputs": [],
   "source": []
  }
 ],
 "metadata": {
  "kernelspec": {
   "display_name": "Python 3 (ipykernel)",
   "language": "python",
   "name": "python3"
  },
  "language_info": {
   "codemirror_mode": {
    "name": "ipython",
    "version": 3
   },
   "file_extension": ".py",
   "mimetype": "text/x-python",
   "name": "python",
   "nbconvert_exporter": "python",
   "pygments_lexer": "ipython3",
   "version": "3.8.9"
  },
  "vscode": {
   "interpreter": {
    "hash": "3fb3d169c97c05dce9d5e5e07fba5f8e81b84aa43749864b30ae9fc530edac5a"
   }
  }
 },
 "nbformat": 4,
 "nbformat_minor": 5
}
